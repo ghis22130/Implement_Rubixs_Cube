{
 "cells": [
  {
   "cell_type": "code",
   "execution_count": null,
   "metadata": {},
   "outputs": [
    {
     "name": "stdout",
     "output_type": "stream",
     "text": [
      "> carrot -1 r\n",
      "arrotc\n",
      "> jisookim -5 r\n",
      "kimjisoo\n"
     ]
    }
   ],
   "source": [
    "def push(msg):\n",
    "    word, size, direction = msg.split() #입력받은 문자열을 단어, 밀어낼 수, 방향으로 나누어 저장한다.\n",
    "    answer = \"\" #반환할 단어\n",
    "    \n",
    "    for idx, i in enumerate (word):\n",
    "        if direction == \"R\" or direction == \"r\":\n",
    "            answer += word[(idx-int(size))%len(word)] #%연산자를 이용하여 오른쪽으로 밀어준다.\n",
    "        elif direction == \"L\" or direction == \"l\" :\n",
    "            answer += word[(idx+int(size))%len(word)]  #%연산자를 이용하여 왼쪽으로 밀어준다.\n",
    "        \n",
    "    return answer\n",
    "\n",
    "while(True):\n",
    "    message = input(\"> \")\n",
    "    if message == \"Q\" or message == \"q\" : #Q 혹은 q 입력시 실행 종료\n",
    "        print(\"bye~ \")\n",
    "        break\n",
    "    print(push(message))"
   ]
  },
  {
   "cell_type": "code",
   "execution_count": null,
   "metadata": {},
   "outputs": [],
   "source": []
  },
  {
   "cell_type": "code",
   "execution_count": null,
   "metadata": {},
   "outputs": [],
   "source": []
  }
 ],
 "metadata": {
  "kernelspec": {
   "display_name": "Python 3",
   "language": "python",
   "name": "python3"
  },
  "language_info": {
   "codemirror_mode": {
    "name": "ipython",
    "version": 3
   },
   "file_extension": ".py",
   "mimetype": "text/x-python",
   "name": "python",
   "nbconvert_exporter": "python",
   "pygments_lexer": "ipython3",
   "version": "3.7.6"
  }
 },
 "nbformat": 4,
 "nbformat_minor": 4
}
